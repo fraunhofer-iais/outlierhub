{
 "cells": [
  {
   "cell_type": "code",
   "execution_count": 1,
   "metadata": {
    "pycharm": {
     "name": "#%%\n"
    }
   },
   "outputs": [
    {
     "ename": "ModuleNotFoundError",
     "evalue": "No module named 'src'",
     "output_type": "error",
     "traceback": [
      "\u001b[0;31m---------------------------------------------------------------------------\u001b[0m",
      "\u001b[0;31mModuleNotFoundError\u001b[0m                       Traceback (most recent call last)",
      "\u001b[0;32m<ipython-input-1-dcbabe3235ff>\u001b[0m in \u001b[0;36m<module>\u001b[0;34m\u001b[0m\n\u001b[1;32m      1\u001b[0m \u001b[0;32mfrom\u001b[0m \u001b[0mmatplotlib\u001b[0m \u001b[0;32mimport\u001b[0m \u001b[0mpyplot\u001b[0m \u001b[0;32mas\u001b[0m \u001b[0mplt\u001b[0m\u001b[0;34m\u001b[0m\u001b[0;34m\u001b[0m\u001b[0m\n\u001b[1;32m      2\u001b[0m \u001b[0;32mimport\u001b[0m \u001b[0mmatplotlib\u001b[0m\u001b[0;34m.\u001b[0m\u001b[0mimage\u001b[0m \u001b[0;32mas\u001b[0m \u001b[0mmpimg\u001b[0m\u001b[0;34m\u001b[0m\u001b[0;34m\u001b[0m\u001b[0m\n\u001b[0;32m----> 3\u001b[0;31m \u001b[0;32mfrom\u001b[0m \u001b[0msrc\u001b[0m\u001b[0;34m.\u001b[0m\u001b[0moutlier_hub\u001b[0m\u001b[0;34m.\u001b[0m\u001b[0mdatasets\u001b[0m\u001b[0;34m.\u001b[0m\u001b[0mham10k\u001b[0m\u001b[0;34m.\u001b[0m\u001b[0mfactory\u001b[0m \u001b[0;32mimport\u001b[0m \u001b[0mHAMFactory\u001b[0m\u001b[0;34m\u001b[0m\u001b[0;34m\u001b[0m\u001b[0m\n\u001b[0m\u001b[1;32m      4\u001b[0m \u001b[0;32mfrom\u001b[0m \u001b[0mdata_stack\u001b[0m\u001b[0;34m.\u001b[0m\u001b[0mio\u001b[0m\u001b[0;34m.\u001b[0m\u001b[0mstorage_connectors\u001b[0m \u001b[0;32mimport\u001b[0m \u001b[0mFileStorageConnector\u001b[0m\u001b[0;34m\u001b[0m\u001b[0;34m\u001b[0m\u001b[0m\n\u001b[1;32m      5\u001b[0m \u001b[0;32mimport\u001b[0m \u001b[0mos\u001b[0m\u001b[0;34m\u001b[0m\u001b[0;34m\u001b[0m\u001b[0m\n",
      "\u001b[0;31mModuleNotFoundError\u001b[0m: No module named 'src'"
     ]
    }
   ],
   "source": [
    "from matplotlib import pyplot as plt\n",
    "import matplotlib.image as mpimg\n",
    "from src.outlier_hub.datasets.ham10k.factory import HAMFactory\n",
    "from data_stack.io.storage_connectors import FileStorageConnector\n",
    "import os\n",
    "import random\n",
    "\n",
    "# create an iterator\n",
    "data_root = os.getcwd()\n",
    "data_storage_path = os.path.join(data_root, \"data\")\n",
    "storage_connector = FileStorageConnector(root_path=data_storage_path)\n",
    "ham_factory = HAMFactory(storage_connector)\n",
    "ham_iterator, _ = ham_factory.get_dataset_iterator(config={\"split\": \"raw\"})\n",
    "\n",
    "# choose a random image example from the iterator\n",
    "random_int = random.randint(0,ham_iterator.__len__())\n",
    "iterator_image = ham_iterator[random_int][0]\n",
    "\n",
    "# get filename out of metadata from example itself - bytetype\n",
    "iterator_image_name = ham_iterator[random_int][1][1]\n",
    "\n",
    "# prepare path for archive image\n",
    "raw_data_storage_path = os.path.join(data_storage_path, \"raw\")\n",
    "raw_img_data_storage_path = os.path.join(raw_data_storage_path, \"images\")\n",
    "iterator_image_name = str(iterator_image_name)[2:14] + '.jpg'\n",
    "archive_image_path = os.path.join(raw_img_data_storage_path, iterator_image_name)\n",
    "\n",
    "# get image out of archive\n",
    "archive_image = mpimg.imread(archive_image_path)\n",
    "\n",
    "# plot images side by side for comparison\n",
    "f = plt.figure(figsize=(15,15))\n",
    "f.add_subplot(1,2,1)\n",
    "plt.title('Sample Image from Iterator')\n",
    "plt.imshow(iterator_image)\n",
    "\n",
    "f.add_subplot(1,2, 2)\n",
    "plt.title('Sample Image out of raw data archive')\n",
    "plt.imshow(archive_image)\n",
    "plt.show()\n",
    "\n",
    "# create a list of randomly selected samples with nv diagnosis and not nv diagnosis\n",
    "nv_img_list = []\n",
    "not_nv_img_list = []\n",
    "\n",
    "while len(nv_img_list) != 5:\n",
    "    random_int = random.randint(0,ham_iterator.__len__())\n",
    "\n",
    "    if str(ham_iterator[random_int][1][2])[2:4] == 'nv':\n",
    "        nv_img_list.append((ham_iterator[random_int][0],\n",
    "                           str(ham_iterator[random_int][1][2])))\n",
    "\n",
    "while len(not_nv_img_list) != 5:\n",
    "    random_int = random.randint(0,ham_iterator.__len__())\n",
    "\n",
    "    if str(ham_iterator[random_int][1][2])[2:4] != 'nv':\n",
    "        not_nv_img_list.append((ham_iterator[random_int][0],\n",
    "                               str(ham_iterator[random_int][1][2])))\n",
    "\n",
    "print('following pictures contains pictures with diagnosis \"nv\", meaning no harm')\n",
    "f = plt.figure(figsize=(15, 15))\n",
    "columns = 5\n",
    "rows = 1\n",
    "for i in range(1, columns*rows +1):\n",
    "    f.add_subplot(rows, columns, i)\n",
    "    plt.title(f'diagnosis {nv_img_list[i-1][1]}')\n",
    "    plt.imshow(nv_img_list[i-1][0])\n",
    "plt.show()\n",
    "\n",
    "print('following pictures contain harmful diagnosis')\n",
    "f = plt.figure(figsize=(15, 15))\n",
    "\n",
    "for i in range(1, columns*rows +1):\n",
    "    f.add_subplot(rows, columns, i)\n",
    "    plt.title(f'diagnosis {not_nv_img_list[i-1][1]}')\n",
    "    plt.imshow(not_nv_img_list[i-1][0])\n",
    "plt.show()\n",
    "\n"
   ]
  },
  {
   "cell_type": "code",
   "execution_count": null,
   "metadata": {},
   "outputs": [],
   "source": []
  }
 ],
 "metadata": {
  "kernelspec": {
   "display_name": "Python 3",
   "language": "python",
   "name": "python3"
  },
  "language_info": {
   "codemirror_mode": {
    "name": "ipython",
    "version": 3
   },
   "file_extension": ".py",
   "mimetype": "text/x-python",
   "name": "python",
   "nbconvert_exporter": "python",
   "pygments_lexer": "ipython3",
   "version": "3.8.10"
  }
 },
 "nbformat": 4,
 "nbformat_minor": 4
}
