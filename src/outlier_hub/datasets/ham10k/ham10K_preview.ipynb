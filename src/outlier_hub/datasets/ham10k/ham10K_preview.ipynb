{
 "cells": [
  {
   "cell_type": "code",
   "execution_count": 1,
   "metadata": {},
   "outputs": [
    {
     "ename": "ModuleNotFoundError",
     "evalue": "No module named 'src'",
     "output_type": "error",
     "traceback": [
      "\u001b[0;31m---------------------------------------------------------------------------\u001b[0m",
      "\u001b[0;31mModuleNotFoundError\u001b[0m                       Traceback (most recent call last)",
      "\u001b[0;32m<ipython-input-1-bed0205b4ec8>\u001b[0m in \u001b[0;36m<module>\u001b[0;34m\u001b[0m\n\u001b[1;32m      1\u001b[0m \u001b[0;32mfrom\u001b[0m \u001b[0mmatplotlib\u001b[0m \u001b[0;32mimport\u001b[0m \u001b[0mpyplot\u001b[0m \u001b[0;32mas\u001b[0m \u001b[0mplt\u001b[0m\u001b[0;34m\u001b[0m\u001b[0;34m\u001b[0m\u001b[0m\n\u001b[1;32m      2\u001b[0m \u001b[0;32mimport\u001b[0m \u001b[0mmatplotlib\u001b[0m\u001b[0;34m.\u001b[0m\u001b[0mimage\u001b[0m \u001b[0;32mas\u001b[0m \u001b[0mmpimg\u001b[0m\u001b[0;34m\u001b[0m\u001b[0;34m\u001b[0m\u001b[0m\n\u001b[0;32m----> 3\u001b[0;31m \u001b[0;32mfrom\u001b[0m \u001b[0msrc\u001b[0m\u001b[0;34m.\u001b[0m\u001b[0moutlier_hub\u001b[0m\u001b[0;34m.\u001b[0m\u001b[0mdatasets\u001b[0m\u001b[0;34m.\u001b[0m\u001b[0mham10k\u001b[0m\u001b[0;34m.\u001b[0m\u001b[0mfactory\u001b[0m \u001b[0;32mimport\u001b[0m \u001b[0mHAMFactory\u001b[0m\u001b[0;34m\u001b[0m\u001b[0;34m\u001b[0m\u001b[0m\n\u001b[0m\u001b[1;32m      4\u001b[0m \u001b[0;32mfrom\u001b[0m \u001b[0mdata_stack\u001b[0m\u001b[0;34m.\u001b[0m\u001b[0mio\u001b[0m\u001b[0;34m.\u001b[0m\u001b[0mstorage_connectors\u001b[0m \u001b[0;32mimport\u001b[0m \u001b[0mStorageConnector\u001b[0m\u001b[0;34m,\u001b[0m \u001b[0mFileStorageConnector\u001b[0m\u001b[0;34m\u001b[0m\u001b[0;34m\u001b[0m\u001b[0m\n\u001b[1;32m      5\u001b[0m \u001b[0;32mimport\u001b[0m \u001b[0mos\u001b[0m\u001b[0;34m\u001b[0m\u001b[0;34m\u001b[0m\u001b[0m\n",
      "\u001b[0;31mModuleNotFoundError\u001b[0m: No module named 'src'"
     ]
    }
   ],
   "source": [
    "from matplotlib import pyplot as plt\n",
    "import matplotlib.image as mpimg\n",
    "from src.outlier_hub.datasets.ham10k.factory import HAMFactory\n",
    "from data_stack.io.storage_connectors import StorageConnector, FileStorageConnector\n",
    "import os\n",
    "\n",
    "# Code for testing the dataset\n",
    "\n",
    "data_root = os.getcwd()\n",
    "data_storage_path = os.path.join(data_root, \"data\")\n",
    "storage_connector = FileStorageConnector(root_path=data_storage_path)\n",
    "ham_factory = HAMFactory(storage_connector)\n",
    "ham_iterator, _ = ham_factory.get_dataset_iterator(config={\"split\": \"raw\"})\n",
    "#sample, target, tag = ham_iterator[1]\n",
    "\n",
    "random_int = [random.randint(0,10) for i in range(5)]\n",
    "random_samples = [ham_iterator[entry] for entry in random_int]\n",
    "\n",
    "raw_data_storage_path = os.path.join(data_storage_path, \"raw\")\n",
    "raw_img_data_storage_path = os.path.join(raw_data_storage_path, \"images\")\n",
    "searched_file = [str(random_samples[1][i])[2:14] + '.jpg' for i in range(5)]\n",
    "#searched_file = str(target[1])[2:14] + '.jpg'\n",
    "print(searched_file)\n",
    "'''\n",
    "searched_file_path = os.path.join(raw_img_data_storage_path, searched_file)\n",
    "img = mpimg.imread(searched_file_path)\n",
    "\n",
    "print( f'target:\",{target}')\n",
    "f = plt.figure(figsize=(15,15))\n",
    "f.add_subplot(1,2, 1)\n",
    "plt.title('Sample Image from Iterator')\n",
    "plt.imshow(sample)\n",
    "f.add_subplot(1,2, 2)\n",
    "plt.title('Sample Image out of raw data archive')\n",
    "plt.imshow(img)\n",
    "plt.show()\n",
    "\n",
    "\n",
    "#print(searched_file_path)\n",
    "\n",
    "#plt.show()\n",
    "#src/outlier_hub/datasets/ham10k/data/raw/images\n",
    "'''"
   ]
  },
  {
   "cell_type": "code",
   "execution_count": null,
   "metadata": {},
   "outputs": [],
   "source": []
  }
 ],
 "metadata": {
  "kernelspec": {
   "display_name": "Python 3",
   "language": "python",
   "name": "python3"
  },
  "language_info": {
   "codemirror_mode": {
    "name": "ipython",
    "version": 3
   },
   "file_extension": ".py",
   "mimetype": "text/x-python",
   "name": "python",
   "nbconvert_exporter": "python",
   "pygments_lexer": "ipython3",
   "version": "3.8.10"
  }
 },
 "nbformat": 4,
 "nbformat_minor": 4
}
