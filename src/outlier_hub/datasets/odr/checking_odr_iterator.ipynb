{
 "cells": [
  {
   "cell_type": "code",
   "execution_count": 1,
   "metadata": {
    "tags": []
   },
   "outputs": [
    {
     "ename": "ModuleNotFoundError",
     "evalue": "No module named 'outlier_hub.datasets.odr'",
     "output_type": "error",
     "traceback": [
      "\u001b[0;31m---------------------------------------------------------------------------\u001b[0m",
      "\u001b[0;31mModuleNotFoundError\u001b[0m                       Traceback (most recent call last)",
      "\u001b[0;32m<ipython-input-1-163f0869e360>\u001b[0m in \u001b[0;36m<module>\u001b[0;34m\u001b[0m\n\u001b[0;32m----> 1\u001b[0;31m \u001b[0;32mfrom\u001b[0m \u001b[0moutlier_hub\u001b[0m\u001b[0;34m.\u001b[0m\u001b[0mdatasets\u001b[0m\u001b[0;34m.\u001b[0m\u001b[0modr\u001b[0m\u001b[0;34m.\u001b[0m\u001b[0mfactory\u001b[0m \u001b[0;32mimport\u001b[0m \u001b[0mODRFactory\u001b[0m\u001b[0;34m\u001b[0m\u001b[0;34m\u001b[0m\u001b[0m\n\u001b[0m\u001b[1;32m      2\u001b[0m \u001b[0;32mfrom\u001b[0m \u001b[0mdata_stack\u001b[0m\u001b[0;34m.\u001b[0m\u001b[0mio\u001b[0m\u001b[0;34m.\u001b[0m\u001b[0mstorage_connectors\u001b[0m \u001b[0;32mimport\u001b[0m \u001b[0mFileStorageConnector\u001b[0m\u001b[0;34m\u001b[0m\u001b[0;34m\u001b[0m\u001b[0m\n\u001b[1;32m      3\u001b[0m \u001b[0;32mimport\u001b[0m \u001b[0mos\u001b[0m\u001b[0;34m\u001b[0m\u001b[0;34m\u001b[0m\u001b[0m\n\u001b[1;32m      4\u001b[0m \u001b[0;32mimport\u001b[0m \u001b[0mpathlib\u001b[0m\u001b[0;34m\u001b[0m\u001b[0;34m\u001b[0m\u001b[0m\n\u001b[1;32m      5\u001b[0m \u001b[0;32mimport\u001b[0m \u001b[0mmatplotlib\u001b[0m\u001b[0;34m.\u001b[0m\u001b[0mpyplot\u001b[0m \u001b[0;32mas\u001b[0m \u001b[0mplt\u001b[0m\u001b[0;34m\u001b[0m\u001b[0;34m\u001b[0m\u001b[0m\n",
      "\u001b[0;31mModuleNotFoundError\u001b[0m: No module named 'outlier_hub.datasets.odr'"
     ]
    }
   ],
   "source": [
    "from outlier_hub.datasets.odr.factory import ODRFactory\n",
    "from data_stack.io.storage_connectors import FileStorageConnector\n",
    "import os\n",
    "import pathlib\n",
    "import matplotlib.pyplot as plt\n",
    "from data_stack.util.logger import logger\n",
    "\n",
    "logger.debug(f\"starting event\")\n",
    "\n",
    "# get root workind directory path\n",
    "root_path = pathlib.Path.cwd().parents[3]\n",
    "\n",
    "# complete path to manual added data\n",
    "data_path = os.path.join(root_path, \"src/outlier_hub/datasets/odr/data\")\n",
    "\n",
    "storage_connector = FileStorageConnector(root_path=data_path)\n",
    "\n",
    "odr_factory = ODRFactory(storage_connector)\n",
    "\n",
    "odr_iterator, _ = odr_factory.get_dataset_iterator(config={\"split\": \"raw\"})\n",
    "\n",
    "sample, target, tag = odr_iterator[2]\n",
    "\n",
    "\n",
    "for i in range(15,30):\n",
    "    sample, target, tag = odr_iterator[i]\n",
    "    print(target)\n",
    "    plt.imshow(sample)\n",
    "    plt.show()\n",
    "# sample.show()"
   ]
  },
  {
   "cell_type": "code",
   "execution_count": null,
   "metadata": {},
   "outputs": [],
   "source": []
  },
  {
   "cell_type": "code",
   "execution_count": null,
   "metadata": {},
   "outputs": [],
   "source": []
  },
  {
   "cell_type": "code",
   "execution_count": null,
   "metadata": {},
   "outputs": [],
   "source": []
  }
 ],
 "metadata": {
  "kernelspec": {
   "display_name": "Python 3",
   "language": "python",
   "name": "python3"
  },
  "language_info": {
   "codemirror_mode": {
    "name": "ipython",
    "version": 3
   },
   "file_extension": ".py",
   "mimetype": "text/x-python",
   "name": "python",
   "nbconvert_exporter": "python",
   "pygments_lexer": "ipython3",
   "version": "3.8.10"
  }
 },
 "nbformat": 4,
 "nbformat_minor": 4
}
